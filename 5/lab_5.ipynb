{
 "cells": [
  {
   "cell_type": "markdown",
   "metadata": {},
   "source": [
    "# Lab 5: Music classification\n",
    "\n",
    "SMC, 2016"
   ]
  },
  {
   "cell_type": "markdown",
   "metadata": {},
   "source": [
    "**This script can be used to extract descriptors from recordings in multiple classes into ARFF file for further processing in WEKA.** It uses descriptors from MIREDU.\n",
    "\n",
    "Directory structure must be the following:\n",
    "* *This .ipynb file*\n",
    "* sonic-annotator (binary version of extractor)\n",
    "* miredu_all.n3\n",
    "* miredu_rms.n3\n",
    "* recordings/ (directory with classes)\n",
    "    * *class_name*  \n",
    "        * *recording in WAV format*  \n",
    "        ...  \n",
    "    ...\n",
    "\n",
    "All classes are defined in `classes` variable below."
   ]
  },
  {
   "cell_type": "markdown",
   "metadata": {},
   "source": [
    "## Reading and parsing"
   ]
  },
  {
   "cell_type": "code",
   "execution_count": 1,
   "metadata": {
    "collapsed": false
   },
   "outputs": [
    {
     "name": "stdout",
     "output_type": "stream",
     "text": [
      "Using temporary directory: /var/folders/6x/s90tdpss7plbh_387wf4vs7c0000gn/T/tmpQjiEam\n"
     ]
    }
   ],
   "source": [
    "import os\n",
    "import os.path\n",
    "import tempfile\n",
    "\n",
    "REC_ORIGINAL_DIR = os.path.join(\".\", \"recordings\")\n",
    "FILE_FORMAT = \"wav\"\n",
    "SAMPLING_RATE = 44100.\n",
    "\n",
    "DESCRIPTORS = [\n",
    "    \"attackstartendtimes\",\n",
    "    \"logattacktime\",\n",
    "    \"rms\",\n",
    "    \"spectralcentroid\",\n",
    "    \"spectralcrest\",\n",
    "    \"spectralflatness\",\n",
    "    \"spectralflux\",\n",
    "    \"spectralkurtosis\",\n",
    "    \"spectralrolloff\",\n",
    "    \"spectralskewness\",\n",
    "    \"spectralspread\",\n",
    "    \"temporalcentroid\",\n",
    "    \"zerocrossingrate\",\n",
    "]\n",
    "\n",
    "temp_dir = tempfile.mkdtemp()\n",
    "print(\"Using temporary directory: %s\" % temp_dir)"
   ]
  },
  {
   "cell_type": "code",
   "execution_count": 2,
   "metadata": {
    "collapsed": true
   },
   "outputs": [],
   "source": [
    "# UTILITY FUNCTIONS\n",
    "\n",
    "import subprocess\n",
    "import errno\n",
    "import csv\n",
    "\n",
    "def create_path(path):\n",
    "    \"\"\"Creates a directory structure if it doesn't exist yet.\"\"\"\n",
    "    try:\n",
    "        os.makedirs(path)\n",
    "    except OSError as exception:\n",
    "        if exception.errno != errno.EEXIST:\n",
    "            sys.exit(\"Failed to create directory structure %s. Error: %s\" % (path, exception))\n",
    "            \n",
    "def shellquote(s):\n",
    "    return \"'\" + s.replace(\"'\", \"'\\\\''\") + \"'\"\n",
    "\n",
    "def sonic_annotator(descriptors, file_path, output_path):\n",
    "    annotator_command = [\n",
    "        \"./sonic-annotator\",\n",
    "        \"-t %s\" % descriptors,\n",
    "        shellquote(file_path),\n",
    "        \"-w csv\",\n",
    "        \"--csv-basedir %s\" % output_path,\n",
    "        \"--force\",\n",
    "        \"--csv-force\",\n",
    "    ]\n",
    "    subprocess.check_call(\" \".join(annotator_command), shell=True)\n",
    "\n",
    "\n",
    "def get_descriptor(directory, sound_name, descr_name):\n",
    "    csv_name = \"%s_vamp_mir-edu_%s_%s.csv\" % (sound_name, descr_name, descr_name)\n",
    "    with open(os.path.join(directory, csv_name), 'rb') as csv_file:\n",
    "        values = []\n",
    "        for row in csv.reader(csv_file):\n",
    "            values.append([float(val) for val in row])\n",
    "    return values"
   ]
  },
  {
   "cell_type": "code",
   "execution_count": 3,
   "metadata": {
    "collapsed": false
   },
   "outputs": [],
   "source": [
    "def get_recordings_in_class(cls_name):\n",
    "    cls_dir = os.path.join(REC_ORIGINAL_DIR, cls_name)\n",
    "    return [f[:-(len(FILE_FORMAT) + 1)] for f in os.listdir(cls_dir)\n",
    "            if os.path.isfile(os.path.join(cls_dir, f)) and f.endswith(\".%s\" % FILE_FORMAT)]\n",
    "\n",
    "classes = {\n",
    "    \"aggressive\": get_recordings_in_class(\"aggressive\"),\n",
    "    \"happy\": get_recordings_in_class(\"happy\"),\n",
    "    \"sad\": get_recordings_in_class(\"sad\"),\n",
    "}"
   ]
  },
  {
   "cell_type": "markdown",
   "metadata": {},
   "source": [
    "## Removing silences"
   ]
  },
  {
   "cell_type": "code",
   "execution_count": 4,
   "metadata": {
    "collapsed": false
   },
   "outputs": [],
   "source": [
    "import essentia.standard\n",
    "\n",
    "SILENCE_THRESHOLD = 0.007  # RMS value\n",
    "\n",
    "def ess_load_file(path):\n",
    "    return essentia.standard.MonoLoader(filename=path)()\n",
    "\n",
    "def get_ranges_below(value, data):\n",
    "    \"\"\"\n",
    "    Args:\n",
    "        value: Threshold value.\n",
    "        data: List of pairs (time, value).\n",
    "        \n",
    "    Returns:\n",
    "        List of tuples (start time, end time).\n",
    "    \"\"\"\n",
    "    ranges = []  # list of tuples (start time, end time)\n",
    "    current_start = None\n",
    "    for time, value in data:\n",
    "        if value < SILENCE_THRESHOLD:\n",
    "            if current_start is None:\n",
    "                current_start = time\n",
    "        else:\n",
    "            if current_start is not None:\n",
    "                ranges.append((current_start, time))\n",
    "                current_start = None\n",
    "    if current_start is not None:\n",
    "        ranges.append((current_start, data[-1][0]))\n",
    "        current_start = None\n",
    "    return ranges\n",
    "\n",
    "def in_ranges(value, ranges):\n",
    "    for r in ranges:\n",
    "        if value >= r[0] and value <= r[1]:\n",
    "            return True\n",
    "    return False\n",
    "\n",
    "def remove_ranges(recording, ranges):\n",
    "    new_rec = []\n",
    "    for sample_n, val in enumerate(recording):\n",
    "        if not in_ranges(sample_n/SAMPLING_RATE, ranges):\n",
    "            new_rec.append(val)\n",
    "    return new_rec"
   ]
  },
  {
   "cell_type": "code",
   "execution_count": 5,
   "metadata": {
    "collapsed": false,
    "scrolled": true
   },
   "outputs": [
    {
     "name": "stdout",
     "output_type": "stream",
     "text": [
      "Writing cleaned up aggressive/07_Thillana_clip.wav...\n",
      "Writing cleaned up aggressive/2Pac - Hit 'em Up.wav...\n",
      "Writing cleaned up aggressive/Charlie Parker - Crazeology.wav...\n",
      "Writing cleaned up aggressive/D12 - Fight Music.wav...\n",
      "Writing cleaned up aggressive/Da Weasel - GTA.wav...\n",
      "Writing cleaned up aggressive/Da Weasel - Tás Na Boa.wav...\n",
      "Writing cleaned up aggressive/Diabolic feat. Immortal Technique - Frontlines.wav...\n",
      "Writing cleaned up aggressive/DMX - Bring Your Whole Crew.wav...\n",
      "Writing cleaned up aggressive/Doris Troy - Kill Them All!.wav...\n",
      "Writing cleaned up aggressive/Earl Hines - Rock and rye.wav...\n",
      "Writing cleaned up aggressive/Ella Fitzgerald - It don't mean a thing.wav...\n",
      "Writing cleaned up aggressive/Eminem - Berzerk.wav...\n",
      "Writing cleaned up aggressive/Eminem - Loose Yourself.wav...\n",
      "Writing cleaned up aggressive/Goondox - Raps Of The Titans ft Swollen Members, Jus Allah, Virtuoso, Psych Ward, Jaysaun.wav...\n",
      "Writing cleaned up aggressive/Grand Daddy IU - We Got Da Gats.wav...\n",
      "Writing cleaned up aggressive/James Chance _ The Contortions - Contort Yourself.wav...\n",
      "Writing cleaned up aggressive/Jedi Mind Tricks - Intro _ Burning The Mirror.wav...\n",
      "Writing cleaned up aggressive/Jedi Mind Tricks - Weapon of Unholy War - Napisy PL.wav...\n",
      "Writing cleaned up aggressive/John Coltrane - Giant steps.wav...\n",
      "Writing cleaned up aggressive/Kanye West - POWER.wav...\n",
      "Writing cleaned up aggressive/Keith Mansfield-Aggressive Jazz Theme.wav...\n",
      "Writing cleaned up aggressive/Kenny Garrett- What Is This Thing Called Love-.wav...\n",
      "Writing cleaned up aggressive/Lil Jon  and  The East Side Boyz, Ice Cube - Roll Call.wav...\n",
      "Writing cleaned up aggressive/Ludacris - Get Back.wav...\n",
      "Writing cleaned up aggressive/M. O. P. - Stick to ya Gunz.wav...\n",
      "Writing cleaned up aggressive/M.O.P. - Ante Up.wav...\n",
      "Writing cleaned up aggressive/NECRO featuring GORETEX and ILL BILL  - ONE FOR THE BUTCHER KNIFE.wav...\n",
      "Writing cleaned up aggressive/Raag_Miya_Malhar_Drut_clip.wav...\n",
      "Writing cleaned up aggressive/Rama__NeeVadu_clip.wav...\n",
      "Writing cleaned up aggressive/Royce da 5'9 - Writer's Block (feat. Eminem).wav...\n",
      "Writing cleaned up aggressive/Siva_Siva_clip.wav...\n",
      "Writing cleaned up aggressive/Tech N9ne - Psycho Bitch.wav...\n",
      "Writing cleaned up aggressive/The Big Phat Band-Sing, Sang, Sung.wav...\n",
      "Writing cleaned up aggressive/The Lounge Lizards - 1981 - Epistrophy.wav...\n",
      "Writing cleaned up sad/01BlackIsTheColorofMyTrueLovesHair.wav...\n",
      "Writing cleaned up sad/09Porquetefuiste_.wav...\n",
      "Writing cleaned up sad/09Runaway(Ft.PushaT).wav...\n",
      "Writing cleaned up sad/19Murir.wav...\n",
      "Writing cleaned up sad/AdagioAlbinoniw.wav...\n",
      "Writing cleaned up sad/AdagioBarberw.wav...\n",
      "Writing cleaned up sad/Always - Bon Jovi.wav...\n",
      "Writing cleaned up sad/ArcticMonkeys-DanceLittleLiar.wav...\n",
      "Writing cleaned up sad/BangBang_short.wav...\n",
      "Writing cleaned up sad/Don't Cry - Guns'n Rose.wav...\n",
      "Writing cleaned up sad/EricWhitacre-WaterNight.wav...\n",
      "Writing cleaned up sad/Goodbye My Lover - James Blunt.wav...\n",
      "Writing cleaned up sad/Hurt_short.wav...\n",
      "Writing cleaned up sad/LacrimosaMozartw.wav...\n",
      "Writing cleaned up sad/Muse-Sunburn.wav...\n",
      "Writing cleaned up sad/NeuesLiebeslied_short.wav...\n",
      "Writing cleaned up sad/NilsFraum-Familiar.wav...\n",
      "Writing cleaned up sad/OlafurArnalds-A1.wav...\n",
      "Writing cleaned up sad/Radiohead-KarmaPolice.wav...\n",
      "Writing cleaned up sad/S_Portishead-Roads.wav...\n",
      "Writing cleaned up sad/S_Radiohead-PyramidSong.wav...\n",
      "Writing cleaned up sad/S_SigurRos-Untitled1.wav...\n",
      "Writing cleaned up sad/S_TheCure-PicturesOfYou.wav...\n",
      "Writing cleaned up sad/SufjanStevens-JohnWayneGacyJr.wav...\n",
      "Writing cleaned up sad/TheCranberries-Zombie.wav...\n",
      "Writing cleaned up sad/When You Are Gone - Avril.wav...\n",
      "Writing cleaned up happy/01Honey.wav...\n",
      "Writing cleaned up happy/02Truth.wav...\n",
      "Writing cleaned up happy/05GoodLife(Ft.T-Pain).wav...\n",
      "Writing cleaned up happy/08Todoelmundolosabe.wav...\n",
      "Writing cleaned up happy/14877246.clip.wav...\n",
      "Writing cleaned up happy/21393497.clip.wav...\n",
      "Writing cleaned up happy/3678341.clip.wav...\n",
      "Writing cleaned up happy/400860.clip.wav...\n",
      "Writing cleaned up happy/AphexTwin-Fingerbib.wav...\n",
      "Writing cleaned up happy/CountryHouse_short.wav...\n",
      "Writing cleaned up happy/Dance, dance - Fall out boy.wav...\n",
      "Writing cleaned up happy/Datasette-PowerBallad.wav...\n",
      "Writing cleaned up happy/DeafCenter-NewBeginning.wav...\n",
      "Writing cleaned up happy/Filippo_Morelli_-_Happy_1.wav...\n",
      "Writing cleaned up happy/Filippo_Morelli_-_Happy_2.wav...\n",
      "Writing cleaned up happy/Filippo_Morelli_-_Happy_3.wav...\n",
      "Writing cleaned up happy/Filippo_Morelli_-_Happy_4.wav...\n",
      "Writing cleaned up happy/H_Avalanches-SinceILeftYou.wav...\n",
      "Writing cleaned up happy/H_Hot8BrassBand-SexualHealing.wav...\n",
      "Writing cleaned up happy/H_ImFromBarcelona-WereFromBarcelona.wav...\n",
      "Writing cleaned up happy/H_MoldyPeaches-AnyoneElseButYou.wav...\n",
      "Writing cleaned up happy/How Long - Eagles.wav...\n",
      "Writing cleaned up happy/Ilkae-SodasTheme.wav...\n",
      "Writing cleaned up happy/IsThisLove_short.wav...\n",
      "Writing cleaned up happy/Kakkmaddafakka-Restless.wav...\n",
      "Writing cleaned up happy/LosDelincuentesPrimaveraw.wav...\n",
      "Writing cleaned up happy/Love Today - Mika.wav...\n",
      "Writing cleaned up happy/MammaMiaw.wav...\n",
      "Writing cleaned up happy/MattandKim-RedPaint.wav...\n",
      "Writing cleaned up happy/PrimaveraVivaldiw.wav...\n",
      "Writing cleaned up happy/Sunrise_short.wav...\n",
      "Writing cleaned up happy/TheView-SameJeans.wav...\n",
      "Writing cleaned up happy/VampireWeekend-Apunk.wav...\n",
      "Writing cleaned up happy/Young for You - Gala.wav...\n",
      "Done!\n"
     ]
    }
   ],
   "source": [
    "import shutil\n",
    "\n",
    "REC_CLEAN_DIR = os.path.join(temp_dir, \"clean_recordings\")\n",
    "\n",
    "for cls_name, recordings in classes.iteritems():\n",
    "    for rec_name in recordings:\n",
    "        file_name = \"%s.%s\" % (rec_name, FILE_FORMAT)\n",
    "        file_path = os.path.join(REC_ORIGINAL_DIR, cls_name, file_name)\n",
    "        \n",
    "        # Getting RMS descriptor using Sonic Annotator\n",
    "        output_dir = os.path.join(temp_dir, \"rms_annotation\", cls_name)   \n",
    "        create_path(output_dir)\n",
    "        sonic_annotator(\"miredu_rms.n3\", file_path, output_dir)\n",
    "        rms = get_descriptor(output_dir, rec_name, \"rms\")\n",
    "\n",
    "        # Removing silences using Essentia\n",
    "        content = ess_load_file(file_path)\n",
    "        content = remove_ranges(\n",
    "            recording=content,\n",
    "            ranges=get_ranges_below(SILENCE_THRESHOLD, rms)\n",
    "        )\n",
    "        \n",
    "        print(\"Writing cleaned up %s/%s...\" % (cls_name, file_name))\n",
    "        output_dir = os.path.join(REC_CLEAN_DIR, cls_name)\n",
    "        create_path(output_dir)\n",
    "        essentia.standard.MonoWriter(\n",
    "            filename=os.path.join(output_dir, file_name),\n",
    "            format=FILE_FORMAT,\n",
    "            sampleRate=SAMPLING_RATE,\n",
    "        )(essentia.array(content))\n",
    "\n",
    "print(\"Done!\")"
   ]
  },
  {
   "cell_type": "markdown",
   "metadata": {},
   "source": [
    "## Computing descriptors"
   ]
  },
  {
   "cell_type": "code",
   "execution_count": 6,
   "metadata": {
    "collapsed": false
   },
   "outputs": [],
   "source": [
    "DESCRIPTORS_DIR = os.path.join(temp_dir, \"annotator_output\")\n",
    "\n",
    "descriptors = {}\n",
    "\n",
    "for cls_name, recordings in classes.iteritems():\n",
    "    descriptors[cls_name] = {}\n",
    "    \n",
    "    for rec_name in recordings:\n",
    "        descriptors[cls_name][rec_name] = {}\n",
    "        \n",
    "        file_name = \"%s.%s\" % (rec_name, FILE_FORMAT)\n",
    "        file_path = os.path.join(REC_CLEAN_DIR, cls_name, file_name)\n",
    "        output_path = os.path.join(DESCRIPTORS_DIR, cls_name)\n",
    "        create_path(output_path)\n",
    "        sonic_annotator(\"miredu_all.n3\", file_path, output_path)\n",
    "        \n",
    "        for descriptor in DESCRIPTORS:\n",
    "            descriptors[cls_name][rec_name][descriptor] = get_descriptor(output_path, rec_name, \"rms\")"
   ]
  },
  {
   "cell_type": "markdown",
   "metadata": {},
   "source": [
    "## Generating ARFF file\n",
    "\n",
    "Info about the format: **http://www.cs.waikato.ac.nz/~ml/weka/arff.html**\n",
    "\n",
    "Using [liac-arff](https://pypi.python.org/pypi/liac-arff) package to generate the file.\n",
    "\n",
    "Using the following functions to compute values:\n",
    "* https://docs.scipy.org/doc/numpy-1.10.0/reference/generated/numpy.std.html\n",
    "* https://docs.scipy.org/doc/numpy-1.10.0/reference/generated/numpy.mean.html"
   ]
  },
  {
   "cell_type": "code",
   "execution_count": 7,
   "metadata": {
    "collapsed": false
   },
   "outputs": [],
   "source": [
    "import numpy as np\n",
    "\n",
    "attributes = []\n",
    "for descr_name in DESCRIPTORS:\n",
    "    # Order is important!\n",
    "    attributes.append((descr_name + \"_std\", \"REAL\"))\n",
    "    attributes.append((descr_name + \"_mean\", \"REAL\"))\n",
    "attributes.append((u\"mood\", classes.keys()))\n",
    "\n",
    "data = []\n",
    "for cls_name, recordings in descriptors.iteritems():\n",
    "    for rec_name, descr in recordings.iteritems():\n",
    "        data_row = []\n",
    "        for descr_name in DESCRIPTORS:\n",
    "            # Order is important!\n",
    "            values = [v[1] for v in descr[descr_name]]\n",
    "            data_row.append(np.std(values))\n",
    "            data_row.append(np.mean(values))\n",
    "        data_row.append(cls_name)\n",
    "        data.append(data_row)\n",
    "\n",
    "dataset = {\n",
    "    u\"relation\": u\"Mood\",\n",
    "    u\"attributes\": attributes,\n",
    "    u\"data\": data\n",
    "}"
   ]
  },
  {
   "cell_type": "code",
   "execution_count": 8,
   "metadata": {
    "collapsed": false
   },
   "outputs": [
    {
     "name": "stderr",
     "output_type": "stream",
     "text": [
      "/usr/local/lib/python2.7/site-packages/arff.py:366: UnicodeWarning: Unicode equal comparison failed to convert both arguments to Unicode - interpreting them as being unequal\n",
      "  if value is None or value == u'' or value != value:\n"
     ]
    }
   ],
   "source": [
    "import arff\n",
    "\n",
    "ARFF_OUTPUT = \"mood.arff\"\n",
    "with open(ARFF_OUTPUT, \"w\") as f:\n",
    "    arff.dump(dataset, f)"
   ]
  },
  {
   "cell_type": "code",
   "execution_count": 9,
   "metadata": {
    "collapsed": true
   },
   "outputs": [],
   "source": [
    "shutil.rmtree(temp_dir)  # Cleanup"
   ]
  }
 ],
 "metadata": {
  "kernelspec": {
   "display_name": "Python 2",
   "language": "python",
   "name": "python2"
  },
  "language_info": {
   "codemirror_mode": {
    "name": "ipython",
    "version": 2
   },
   "file_extension": ".py",
   "mimetype": "text/x-python",
   "name": "python",
   "nbconvert_exporter": "python",
   "pygments_lexer": "ipython2",
   "version": "2.7.11"
  }
 },
 "nbformat": 4,
 "nbformat_minor": 0
}
